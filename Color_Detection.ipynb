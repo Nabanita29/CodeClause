{
  "nbformat": 4,
  "nbformat_minor": 0,
  "metadata": {
    "colab": {
      "provenance": [],
      "authorship_tag": "ABX9TyNoQjj910029BFQxAXwq0fA",
      "include_colab_link": true
    },
    "kernelspec": {
      "name": "python3",
      "display_name": "Python 3"
    },
    "language_info": {
      "name": "python"
    }
  },
  "cells": [
    {
      "cell_type": "markdown",
      "metadata": {
        "id": "view-in-github",
        "colab_type": "text"
      },
      "source": [
        "<a href=\"https://colab.research.google.com/github/Nabanita29/CodeClause/blob/main/Color_Detection.ipynb\" target=\"_parent\"><img src=\"https://colab.research.google.com/assets/colab-badge.svg\" alt=\"Open In Colab\"/></a>"
      ]
    },
    {
      "cell_type": "code",
      "source": [
        "import cv2\n",
        "import numpy as np\n",
        "from sklearn.cluster import KMeans\n",
        "import matplotlib.pyplot as plt\n",
        "\n",
        "def get_dominant_colors(image_path, num_colors=5):\n",
        "    # Read the image\n",
        "    img = cv2.imread(image_path)\n",
        "    img = cv2.cvtColor(img, cv2.COLOR_BGR2RGB)\n",
        "\n",
        "    # Reshape the image to a 2D array of pixels and 3 color channels (RGB)\n",
        "    pixels = img.reshape(-1, 3)\n",
        "\n",
        "    # Use K-means clustering to find the dominant colors\n",
        "    kmeans = KMeans(n_clusters=num_colors)\n",
        "    kmeans.fit(pixels)\n",
        "\n",
        "    # Get the RGB values of the cluster centers (dominant colors)\n",
        "    dominant_colors = kmeans.cluster_centers_.astype(int)\n",
        "\n",
        "    return dominant_colors\n",
        "\n",
        "def plot_colors(colors):\n",
        "    # Create a new figure\n",
        "    plt.figure(figsize=(8, 2))\n",
        "\n",
        "    # Create a horizontal bar for each dominant color\n",
        "    for color in colors:\n",
        "        color_patch = np.zeros((100, 100, 3), dtype=np.uint8)\n",
        "        color_patch[:, :, :] = color\n",
        "        plt.subplot(1, len(colors), 1)\n",
        "        plt.imshow(color_patch)\n",
        "        plt.axis('off')\n",
        "\n",
        "    plt.show()\n",
        "\n",
        "if __name__ == \"__main__\":\n",
        "    image_path = \"/content/colordetection.jpg\"\n",
        "    num_colors = 5  # You can change this to get a different number of dominant colors\n",
        "\n",
        "    dominant_colors = get_dominant_colors(image_path, num_colors)\n",
        "    print(\"Dominant colors (RGB):\")\n",
        "    print(dominant_colors)\n",
        "\n",
        "    # Display the dominant colors\n",
        "    plot_colors(dominant_colors)\n"
      ],
      "metadata": {
        "colab": {
          "base_uri": "https://localhost:8080/",
          "height": 302
        },
        "id": "GP3fFgOX92In",
        "outputId": "36186dd5-f30d-4650-d657-b0658dc9f51c"
      },
      "execution_count": 17,
      "outputs": [
        {
          "output_type": "stream",
          "name": "stderr",
          "text": [
            "/usr/local/lib/python3.10/dist-packages/sklearn/cluster/_kmeans.py:870: FutureWarning: The default value of `n_init` will change from 10 to 'auto' in 1.4. Set the value of `n_init` explicitly to suppress the warning\n",
            "  warnings.warn(\n"
          ]
        },
        {
          "output_type": "stream",
          "name": "stdout",
          "text": [
            "Dominant colors (RGB):\n",
            "[[ 40 133 237]\n",
            " [  9  88 192]\n",
            " [172 201 234]\n",
            " [127 158 208]\n",
            " [ 80 125 191]]\n"
          ]
        },
        {
          "output_type": "display_data",
          "data": {
            "text/plain": [
              "<Figure size 800x200 with 1 Axes>"
            ],
            "image/png": "[encoded data removed]"
          },
          "metadata": {}
        }
      ]
    },
    {
      "cell_type": "code",
      "source": [
        "if __name__ == \"__main__\":\n",
        "    image_path = \"/content/colordetection.png\"\n",
        "    num_colors = 5  # You can change this to get a different number of dominant colors\n",
        "\n",
        "    dominant_colors = get_dominant_colors(image_path, num_colors)\n",
        "    print(\"Dominant colors (RGB):\")\n",
        "    print(dominant_colors)\n",
        "\n",
        "    # Display the dominant colors\n",
        "    plot_colors(dominant_colors)\n"
      ],
      "metadata": {
        "colab": {
          "base_uri": "https://localhost:8080/",
          "height": 302
        },
        "id": "Lx2mwUlqBllM",
        "outputId": "2b2cf1ae-3882-441d-894d-f24b9979b9b8"
      },
      "execution_count": 22,
      "outputs": [
        {
          "output_type": "stream",
          "name": "stderr",
          "text": [
            "/usr/local/lib/python3.10/dist-packages/sklearn/cluster/_kmeans.py:870: FutureWarning: The default value of `n_init` will change from 10 to 'auto' in 1.4. Set the value of `n_init` explicitly to suppress the warning\n",
            "  warnings.warn(\n"
          ]
        },
        {
          "output_type": "stream",
          "name": "stdout",
          "text": [
            "Dominant colors (RGB):\n",
            "[[255   0   0]\n",
            " [241 240 236]\n",
            " [220 216 207]\n",
            " [255 254 254]\n",
            " [255 229 229]]\n"
          ]
        },
        {
          "output_type": "display_data",
          "data": {
            "text/plain": [
              "<Figure size 800x200 with 1 Axes>"
            ],
            "image/png": "[encoded data removed]"
          },
          "metadata": {}
        }
      ]
    }
  ]
}